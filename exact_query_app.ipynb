{
  "nbformat": 4,
  "nbformat_minor": 0,
  "metadata": {
    "colab": {
      "provenance": [],
      "authorship_tag": "ABX9TyPJtDjGBkM1JgIHMt5bK4u4",
      "include_colab_link": true
    },
    "kernelspec": {
      "name": "python3",
      "display_name": "Python 3"
    },
    "language_info": {
      "name": "python"
    }
  },
  "cells": [
    {
      "cell_type": "markdown",
      "metadata": {
        "id": "view-in-github",
        "colab_type": "text"
      },
      "source": [
        "<a href=\"https://colab.research.google.com/github/aviresler/med_reg/blob/main/exact_query_app.ipynb\" target=\"_parent\"><img src=\"https://colab.research.google.com/assets/colab-badge.svg\" alt=\"Open In Colab\"/></a>"
      ]
    },
    {
      "cell_type": "code",
      "source": [
        "!git clone https://github.com/aviresler/med_reg.git"
      ],
      "metadata": {
        "colab": {
          "base_uri": "https://localhost:8080/"
        },
        "id": "BD3jARa4t-Ay",
        "outputId": "60c0b55a-6eeb-4321-85be-8a453266de39"
      },
      "execution_count": 3,
      "outputs": [
        {
          "output_type": "stream",
          "name": "stdout",
          "text": [
            "Cloning into 'med_reg'...\n",
            "remote: Enumerating objects: 10, done.\u001b[K\n",
            "remote: Counting objects: 100% (10/10), done.\u001b[K\n",
            "remote: Compressing objects: 100% (7/7), done.\u001b[K\n",
            "remote: Total 10 (delta 1), reused 7 (delta 1), pack-reused 0\u001b[K\n",
            "Unpacking objects: 100% (10/10), 192.74 KiB | 3.78 MiB/s, done.\n"
          ]
        }
      ]
    },
    {
      "cell_type": "code",
      "source": [
        "\n",
        "import pickle\n",
        "import re\n",
        "\n",
        "with open('med_reg/docs/Directive_2017_745_5Apr2017.pickle', 'rb') as handle:\n",
        "    doc_dict = pickle.load(handle)\n",
        "\n",
        "QUERY_TEXT = 'Clinical evaluation plan' # 'Clinical development plan'\n",
        "\n",
        "cnt  = 0\n",
        "for section, section_dict in doc_dict.items():\n",
        "    for id, text_section in section_dict['text'].items():\n",
        "        if re.search(QUERY_TEXT, text_section, re.IGNORECASE):\n",
        "            total_string = []\n",
        "            total_string.append(text_section)\n",
        "            # print text and structure:\n",
        "            parent_id = section_dict['structure'][id]\n",
        "            while parent_id != -1:\n",
        "                total_string.insert(0, section_dict['text'][parent_id])\n",
        "                parent_id = section_dict['structure'][parent_id]\n",
        "            print(str(cnt) + '.********************\\n')\n",
        "            cnt = cnt + 1\n",
        "            for k, sub_string in enumerate(total_string):\n",
        "                print(''.join(['*']*(k+1)) + '   ' + sub_string)\n",
        "            print('\\n')\n",
        "\n"
      ],
      "metadata": {
        "colab": {
          "base_uri": "https://localhost:8080/"
        },
        "id": "233y2uuluG8y",
        "outputId": "c1bfb773-be61-4c65-beff-00ba3c387e97"
      },
      "execution_count": 11,
      "outputs": [
        {
          "output_type": "stream",
          "name": "stdout",
          "text": [
            "0.********************\n",
            "\n",
            "*   ANNEX II\n",
            "\n",
            "TECHNICAL DOCUMENTATION\n",
            "\n",
            "The technical documentation and, if applicable, the summary thereof to be drawn up by the manufacturer shall be presented in a clear, organised, readily searchable and unambiguous manner and shall include in particular the elements listed in this Annex.\n",
            "**   6. PRODUCT VERIFICATION AND VALIDATION\n",
            "\n",
            "The documentation shall contain the results and critical analyses of all verifications and validation tests and/or studies undertaken to demonstrate conformity of the device with the requirements of this Regulation and in particular the applicable general safety and performance requirements.\n",
            "***   6.1. Pre-clinical and clinical data\n",
            "****   (c) the clinical evaluation report and its updates and the clinical evaluation plan referred to in Article 61(12) and Part A of Annex XIV;\n",
            "\n",
            "\n",
            "1.********************\n",
            "\n",
            "*   ANNEX IX\n",
            "\n",
            "CONFORMITY ASSESSMENT BASED ON A QUALITY MANAGEMENT SYSTEM AND ON ASSESSMENT OF TECHNICAL DOCUMENTATION\n",
            "**   CHAPTER I\n",
            "\n",
            "QUALITY MANAGEMENT SYSTEM\n",
            "***   2. Quality management system assessment\n",
            "****   2.1. The manufacturer shall lodge an application for assessment of its quality management system with a notified body. The application shall include:\n",
            "*****    documentation on the clinical evaluation plan, and\n",
            "\n",
            "\n",
            "2.********************\n",
            "\n",
            "*   ANNEX IX\n",
            "\n",
            "CONFORMITY ASSESSMENT BASED ON A QUALITY MANAGEMENT SYSTEM AND ON ASSESSMENT OF TECHNICAL DOCUMENTATION\n",
            "**   CHAPTER I\n",
            "\n",
            "QUALITY MANAGEMENT SYSTEM\n",
            "***   2. Quality management system assessment\n",
            "****   2.1. The manufacturer shall lodge an application for assessment of its quality management system with a notified body. The application shall include:\n",
            "*****    a description of the procedures in place to keep up to date the clinical evaluation plan, taking into account the state of the art.\n",
            "\n",
            "\n",
            "3.********************\n",
            "\n",
            "*   ANNEX XIV\n",
            "\n",
            "CLINICAL EVALUATION AND POST-MARKET CLINICAL FOLLOW-UP\n",
            "**   PART A\n",
            "\n",
            "CLINICAL EVALUATION\n",
            "***   1. To plan, continuously conduct and document a clinical evaluation, manufacturers shall:\n",
            "****   (a) establish and update a clinical evaluation plan, which shall include at least:\n",
            "\n",
            "\n",
            "4.********************\n",
            "\n",
            "*   ANNEX XV\n",
            "\n",
            "CLINICAL INVESTIGATIONS\n",
            "**   CHAPTER I\n",
            "GENERAL REQUIREMENTS\n",
            "***   2. Methods\n",
            "****   2.4. Clinical investigations shall be performed in accordance with the clinical investigation plan by a sufficient number of intended users and in a clinical environment that is representative of the intended normal conditions of use of the device in the target patient population. Clinical investigations shall be in line with the clinical evaluation plan as referred to in Part A of Annex XIV.\n",
            "\n",
            "\n",
            "5.********************\n",
            "\n",
            "*   ANNEX XV\n",
            "\n",
            "CLINICAL INVESTIGATIONS\n",
            "**   CHAPTER II\n",
            "DOCUMENTATION REGARDING THE APPLICATION FOR CLINICAL INVESTIGATION\n",
            "\n",
            "For investigational devices covered by Article 62, the sponsor shall draw up and submit the application in accordance with Article 70 accompanied by the following documents:\n",
            "***   1. Application form\n",
            "\n",
            "The application form shall be duly filled in, containing information regarding:\n",
            "****   1.5. details and/or reference to the clinical evaluation plan;\n",
            "\n",
            "\n",
            "6.********************\n",
            "\n",
            "*   ANNEX XV\n",
            "\n",
            "CLINICAL INVESTIGATIONS\n",
            "**   CHAPTER II\n",
            "DOCUMENTATION REGARDING THE APPLICATION FOR CLINICAL INVESTIGATION\n",
            "\n",
            "For investigational devices covered by Article 62, the sponsor shall draw up and submit the application in accordance with Article 70 accompanied by the following documents:\n",
            "***   3. Clinical Investigation Plan\n",
            "\n",
            "The clinical investigation plan (CIP) shall set out the rationale, objectives, design methodology, monitoring, conduct, record-keeping and the method of analysis for the clinical investigation. It shall contain in particular the information as laid down in this Annex. If part of this information is submitted in a separate document, it shall be referenced in the CIP.\n",
            "****   3.6. Design of the clinical investigation with evidence of its scientific robustness and validity.\n",
            "*****   3.6.1. General information such as type of investigation with rationale for choosing it, for its endpoints and for its variables as set out in the clinical evaluation plan.\n",
            "\n",
            "\n"
          ]
        }
      ]
    }
  ]
}