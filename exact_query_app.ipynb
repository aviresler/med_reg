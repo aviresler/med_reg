{
  "nbformat": 4,
  "nbformat_minor": 0,
  "metadata": {
    "colab": {
      "provenance": [],
      "authorship_tag": "ABX9TyO9Cun7d3Jfd8DejbGidYKt",
      "include_colab_link": true
    },
    "kernelspec": {
      "name": "python3",
      "display_name": "Python 3"
    },
    "language_info": {
      "name": "python"
    }
  },
  "cells": [
    {
      "cell_type": "markdown",
      "metadata": {
        "id": "view-in-github",
        "colab_type": "text"
      },
      "source": [
        "<a href=\"https://colab.research.google.com/github/aviresler/med_reg/blob/master/exact_query_app.ipynb\" target=\"_parent\"><img src=\"https://colab.research.google.com/assets/colab-badge.svg\" alt=\"Open In Colab\"/></a>"
      ]
    },
    {
      "cell_type": "code",
      "execution_count": null,
      "metadata": {
        "id": "64jnlNfdL5ob"
      },
      "outputs": [],
      "source": [
        "!rm -rf med_reg\n",
        "!git clone https://github.com/aviresler/med_reg.git"
      ]
    },
    {
      "cell_type": "code",
      "source": [
        "import pickle\n",
        "import re\n",
        "from med_reg.exact_query import print_text_and_structure\n",
        "\n",
        "with open('med_reg/docs/Directive_2017_745_5Apr2017.pickle', 'rb') as handle:\n",
        "    doc_dict = pickle.load(handle)\n",
        "\n",
        "QUERY_TEXT = 'Clinical evaluation plan' # 'Clinical development plan'\n",
        "\n",
        "print_text_and_structure(doc_dict, QUERY_TEXT)"
      ],
      "metadata": {
        "id": "5A1joJvbL-2p"
      },
      "execution_count": null,
      "outputs": []
    }
  ]
}