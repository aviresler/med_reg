{
  "cells": [
    {
      "cell_type": "code",
      "execution_count": 11,
      "metadata": {
        "colab": {
          "base_uri": "https://localhost:8080/"
        },
        "id": "BD3jARa4t-Ay",
        "outputId": "12dbf2c3-04d4-44ed-f731-682ac62efa12"
      },
      "outputs": [
        {
          "output_type": "stream",
          "name": "stdout",
          "text": [
            "Cloning into 'med_reg'...\n",
            "remote: Enumerating objects: 24, done.\u001b[K\n",
            "remote: Counting objects: 100% (24/24), done.\u001b[K\n",
            "remote: Compressing objects: 100% (16/16), done.\u001b[K\n",
            "remote: Total 24 (delta 8), reused 15 (delta 6), pack-reused 0\n",
            "Unpacking objects: 100% (24/24), 240.04 KiB | 2.16 MiB/s, done.\n"
          ]
        }
      ],
      "source": [
        "!rm -rf med_reg\n",
        "!git clone https://github.com/aviresler/med_reg.git"
      ]
    },
    {
      "cell_type": "code",
      "execution_count": 19,
      "metadata": {
        "colab": {
          "base_uri": "https://localhost:8080/"
        },
        "id": "233y2uuluG8y",
        "outputId": "4b8d2fb3-4dad-4f39-8163-e8a4ffbdf1f7"
      },
      "outputs": [
        {
          "output_type": "stream",
          "name": "stdout",
          "text": [
            "0.********************\n",
            "\n",
            "*   ANNEX II\n",
            "\n",
            "TECHNICAL DOCUMENTATION\n",
            "\n",
            "The technical documentation and, if applicable, the summary thereof to be drawn up by the manufacturer shall be presented in a clear, organised, readily searchable and unambiguous manner and shall include in particular the elements listed in this Annex.\n",
            "**   6. PRODUCT VERIFICATION AND VALIDATION\n",
            "\n",
            "The documentation shall contain the results and critical analyses of all verifications and validation tests and/or studies undertaken to demonstrate conformity of the device with the requirements of this Regulation and in particular the applicable general safety and performance requirements.\n",
            "***   6.1. Pre-clinical and clinical data\n",
            "****   (c) the clinical evaluation report and its updates and the clinical evaluation plan referred to in Article 61(12) and Part A of Annex XIV;\n",
            "\n",
            "\n",
            "1.********************\n",
            "\n",
            "*   ANNEX IX\n",
            "\n",
            "CONFORMITY ASSESSMENT BASED ON A QUALITY MANAGEMENT SYSTEM AND ON ASSESSMENT OF TECHNICAL DOCUMENTATION\n",
            "**   CHAPTER I\n",
            "\n",
            "QUALITY MANAGEMENT SYSTEM\n",
            "***   2. Quality management system assessment\n",
            "****   2.1. The manufacturer shall lodge an application for assessment of its quality management system with a notified body. The application shall include:\n",
            "*****   - documentation on the clinical evaluation plan, and\n",
            "\n",
            "\n",
            "2.********************\n",
            "\n",
            "*   ANNEX IX\n",
            "\n",
            "CONFORMITY ASSESSMENT BASED ON A QUALITY MANAGEMENT SYSTEM AND ON ASSESSMENT OF TECHNICAL DOCUMENTATION\n",
            "**   CHAPTER I\n",
            "\n",
            "QUALITY MANAGEMENT SYSTEM\n",
            "***   2. Quality management system assessment\n",
            "****   2.1. The manufacturer shall lodge an application for assessment of its quality management system with a notified body. The application shall include:\n",
            "*****   - a description of the procedures in place to keep up to date the clinical evaluation plan, taking into account the state of the art.\n",
            "\n",
            "\n",
            "3.********************\n",
            "\n",
            "*   ANNEX XIV\n",
            "\n",
            "CLINICAL EVALUATION AND POST-MARKET CLINICAL FOLLOW-UP\n",
            "**   PART A\n",
            "\n",
            "CLINICAL EVALUATION\n",
            "***   1. To plan, continuously conduct and document a clinical evaluation, manufacturers shall:\n",
            "****   (a) establish and update a clinical evaluation plan, which shall include at least:\n",
            "\n",
            "\n",
            "4.********************\n",
            "\n",
            "*   ANNEX XV\n",
            "\n",
            "CLINICAL INVESTIGATIONS\n",
            "**   CHAPTER I\n",
            "GENERAL REQUIREMENTS\n",
            "***   2. Methods\n",
            "****   2.4. Clinical investigations shall be performed in accordance with the clinical investigation plan by a sufficient number of intended users and in a clinical environment that is representative of the intended normal conditions of use of the device in the target patient population. Clinical investigations shall be in line with the clinical evaluation plan as referred to in Part A of Annex XIV.\n",
            "\n",
            "\n",
            "5.********************\n",
            "\n",
            "*   ANNEX XV\n",
            "\n",
            "CLINICAL INVESTIGATIONS\n",
            "**   CHAPTER II\n",
            "DOCUMENTATION REGARDING THE APPLICATION FOR CLINICAL INVESTIGATION\n",
            "\n",
            "For investigational devices covered by Article 62, the sponsor shall draw up and submit the application in accordance with Article 70 accompanied by the following documents:\n",
            "***   1. Application form\n",
            "\n",
            "The application form shall be duly filled in, containing information regarding:\n",
            "****   1.5. details and/or reference to the clinical evaluation plan;\n",
            "\n",
            "\n",
            "6.********************\n",
            "\n",
            "*   ANNEX XV\n",
            "\n",
            "CLINICAL INVESTIGATIONS\n",
            "**   CHAPTER II\n",
            "DOCUMENTATION REGARDING THE APPLICATION FOR CLINICAL INVESTIGATION\n",
            "\n",
            "For investigational devices covered by Article 62, the sponsor shall draw up and submit the application in accordance with Article 70 accompanied by the following documents:\n",
            "***   3. Clinical Investigation Plan\n",
            "\n",
            "The clinical investigation plan (CIP) shall set out the rationale, objectives, design methodology, monitoring, conduct, record-keeping and the method of analysis for the clinical investigation. It shall contain in particular the information as laid down in this Annex. If part of this information is submitted in a separate document, it shall be referenced in the CIP.\n",
            "****   3.6. Design of the clinical investigation with evidence of its scientific robustness and validity.\n",
            "*****   3.6.1. General information such as type of investigation with rationale for choosing it, for its endpoints and for its variables as set out in the clinical evaluation plan.\n",
            "\n",
            "\n"
          ]
        }
      ],
      "source": [
        "\n",
        "import pickle\n",
        "import re\n",
        "from med_reg.exact_query import print_text_and_structure\n",
        "\n",
        "with open('med_reg/docs/Directive_2017_745_5Apr2017.pickle', 'rb') as handle:\n",
        "    doc_dict = pickle.load(handle)\n",
        "\n",
        "QUERY_TEXT = 'Clinical evaluation plan' # 'Clinical development plan'\n",
        "\n",
        "print_text_and_structure(doc_dict, QUERY_TEXT)\n"
      ]
    },
    {
      "cell_type": "code",
      "execution_count": null,
      "metadata": {
        "id": "AVO4NIU4JdvA"
      },
      "outputs": [],
      "source": []
    }
  ],
  "metadata": {
    "colab": {
      "provenance": []
    },
    "kernelspec": {
      "display_name": "Python 3 (ipykernel)",
      "language": "python",
      "name": "python3"
    },
    "language_info": {
      "codemirror_mode": {
        "name": "ipython",
        "version": 3
      },
      "file_extension": ".py",
      "mimetype": "text/x-python",
      "name": "python",
      "nbconvert_exporter": "python",
      "pygments_lexer": "ipython3",
      "version": "3.10.10"
    }
  },
  "nbformat": 4,
  "nbformat_minor": 0
}